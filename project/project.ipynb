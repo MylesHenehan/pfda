{
 "cells": [
  {
   "cell_type": "markdown",
   "metadata": {},
   "source": [
    "Analysing "
   ]
  },
  {
   "cell_type": "markdown",
   "metadata": {},
   "source": [
    "Short Description + Libraries"
   ]
  },
  {
   "cell_type": "code",
   "execution_count": 15,
   "metadata": {},
   "outputs": [
    {
     "name": "stdout",
     "output_type": "stream",
     "text": [
      "          id Country  Year         region  protest  protesterviolence  \\\n",
      "0  201990001  Canada  1990  North America        1                  0   \n",
      "1  201990002  Canada  1990  North America        1                  0   \n",
      "2  201990003  Canada  1990  North America        1                  0   \n",
      "3  201990004  Canada  1990  North America        1                  1   \n",
      "4  201990005  Canada  1990  North America        1                  1   \n",
      "\n",
      "              protesterdemand1    protesterdemand2 protesterdemand3  \\\n",
      "0  political behavior, process  labor wage dispute              NaN   \n",
      "1  political behavior, process                 NaN              NaN   \n",
      "2  political behavior, process                 NaN              NaN   \n",
      "3              land farm issue                 NaN              NaN   \n",
      "4  political behavior, process                 NaN              NaN   \n",
      "\n",
      "  protesterdemand4   stateresponse1 stateresponse2 stateresponse3  \\\n",
      "0              NaN           ignore            NaN            NaN   \n",
      "1              NaN           ignore            NaN            NaN   \n",
      "2              NaN           ignore            NaN            NaN   \n",
      "3              NaN     accomodation            NaN            NaN   \n",
      "4              NaN  crowd dispersal        arrests   accomodation   \n",
      "\n",
      "  stateresponse4 stateresponse5 stateresponse6 stateresponse7  \\\n",
      "0            NaN            NaN            NaN            NaN   \n",
      "1            NaN            NaN            NaN            NaN   \n",
      "2            NaN            NaN            NaN            NaN   \n",
      "3            NaN            NaN            NaN            NaN   \n",
      "4            NaN            NaN            NaN            NaN   \n",
      "\n",
      "   Electoral_Score  Liberal_Score  Participatory_Score  Deliberative_Score  \\\n",
      "0            0.834          0.759                 0.58               0.756   \n",
      "1            0.834          0.759                 0.58               0.756   \n",
      "2            0.834          0.759                 0.58               0.756   \n",
      "3            0.834          0.759                 0.58               0.756   \n",
      "4            0.834          0.759                 0.58               0.756   \n",
      "\n",
      "   Egalitarian_Score  HDI_Score  violenceStatus  predicted_prob  \n",
      "0              0.719       0.85               0        0.299385  \n",
      "1              0.719       0.85               0        0.299385  \n",
      "2              0.719       0.85               0        0.299385  \n",
      "3              0.719       0.85               1        0.299385  \n",
      "4              0.719       0.85               1        0.299385  \n"
     ]
    }
   ],
   "source": [
    "import pandas as pd\n",
    "import matplotlib.pyplot as plt\n",
    "import numpy as np\n",
    "\n",
    "path = \"data/globalprotests.csv\"\n",
    "df = pd.read_csv(path)\n",
    "\n",
    "print(df.head())\n",
    "\n",
    "\n",
    "\n",
    "\n",
    "\n",
    "\n"
   ]
  }
 ],
 "metadata": {
  "kernelspec": {
   "display_name": "base",
   "language": "python",
   "name": "python3"
  },
  "language_info": {
   "codemirror_mode": {
    "name": "ipython",
    "version": 3
   },
   "file_extension": ".py",
   "mimetype": "text/x-python",
   "name": "python",
   "nbconvert_exporter": "python",
   "pygments_lexer": "ipython3",
   "version": "3.12.7"
  }
 },
 "nbformat": 4,
 "nbformat_minor": 2
}
